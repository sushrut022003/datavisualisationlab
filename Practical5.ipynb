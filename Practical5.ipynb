{
 "cells": [
  {
   "cell_type": "code",
   "execution_count": 1,
   "id": "64bcedb2-de48-42b6-a842-75fc63d47609",
   "metadata": {},
   "outputs": [],
   "source": [
    "# Name :Sushrut Patil\n",
    "# Roll No: 37\n",
    "# Practical 5:Program/Notebook related to any dataset using Pandas DataFrame methods: Count ( ) Method, describe ( ) \n",
    "# Method, drop_duplicated( ) Method, empty property, filter( ) Method, equals( ) Method"
   ]
  },
  {
   "cell_type": "code",
   "execution_count": 2,
   "id": "97b7e006-ddcd-40c9-9363-7d5fe5a0eeea",
   "metadata": {},
   "outputs": [
    {
     "name": "stdout",
     "output_type": "stream",
     "text": [
      "4\n"
     ]
    }
   ],
   "source": [
    "# Count() Function\n",
    "import pandas as pd\n",
    "df=pd.read_csv('Employee.csv')\n",
    "print(df['GradCGPA'].count())"
   ]
  },
  {
   "cell_type": "code",
   "execution_count": 3,
   "id": "7ce07be2-633a-46a1-9eda-839b391f906e",
   "metadata": {},
   "outputs": [
    {
     "data": {
      "text/html": [
       "<div>\n",
       "<style scoped>\n",
       "    .dataframe tbody tr th:only-of-type {\n",
       "        vertical-align: middle;\n",
       "    }\n",
       "\n",
       "    .dataframe tbody tr th {\n",
       "        vertical-align: top;\n",
       "    }\n",
       "\n",
       "    .dataframe thead th {\n",
       "        text-align: right;\n",
       "    }\n",
       "</style>\n",
       "<table border=\"1\" class=\"dataframe\">\n",
       "  <thead>\n",
       "    <tr style=\"text-align: right;\">\n",
       "      <th></th>\n",
       "      <th>GradCGPA</th>\n",
       "    </tr>\n",
       "  </thead>\n",
       "  <tbody>\n",
       "    <tr>\n",
       "      <th>count</th>\n",
       "      <td>4.000000</td>\n",
       "    </tr>\n",
       "    <tr>\n",
       "      <th>mean</th>\n",
       "      <td>8.975000</td>\n",
       "    </tr>\n",
       "    <tr>\n",
       "      <th>std</th>\n",
       "      <td>0.865544</td>\n",
       "    </tr>\n",
       "    <tr>\n",
       "      <th>min</th>\n",
       "      <td>7.800000</td>\n",
       "    </tr>\n",
       "    <tr>\n",
       "      <th>25%</th>\n",
       "      <td>8.625000</td>\n",
       "    </tr>\n",
       "    <tr>\n",
       "      <th>50%</th>\n",
       "      <td>9.150000</td>\n",
       "    </tr>\n",
       "    <tr>\n",
       "      <th>75%</th>\n",
       "      <td>9.500000</td>\n",
       "    </tr>\n",
       "    <tr>\n",
       "      <th>max</th>\n",
       "      <td>9.800000</td>\n",
       "    </tr>\n",
       "  </tbody>\n",
       "</table>\n",
       "</div>"
      ],
      "text/plain": [
       "       GradCGPA\n",
       "count  4.000000\n",
       "mean   8.975000\n",
       "std    0.865544\n",
       "min    7.800000\n",
       "25%    8.625000\n",
       "50%    9.150000\n",
       "75%    9.500000\n",
       "max    9.800000"
      ]
     },
     "execution_count": 3,
     "metadata": {},
     "output_type": "execute_result"
    }
   ],
   "source": [
    "# Describe function\n",
    "df.describe()"
   ]
  },
  {
   "cell_type": "code",
   "execution_count": 4,
   "id": "338e52cc-3684-4ede-8489-b31cd79ce4d3",
   "metadata": {},
   "outputs": [
    {
     "name": "stdout",
     "output_type": "stream",
     "text": [
      "0      Male\n",
      "2    Female\n",
      "Name: Gender, dtype: object\n"
     ]
    }
   ],
   "source": [
    "# drop_duplicates()\n",
    "newdf=df['Gender'].drop_duplicates()\n",
    "print(newdf)"
   ]
  },
  {
   "cell_type": "code",
   "execution_count": 6,
   "id": "ecd350c4-53c0-4a51-ab16-7e7ea2244c54",
   "metadata": {},
   "outputs": [
    {
     "name": "stdout",
     "output_type": "stream",
     "text": [
      "False\n"
     ]
    }
   ],
   "source": [
    "# Empty property\n",
    "print(df.empty)"
   ]
  },
  {
   "cell_type": "code",
   "execution_count": 14,
   "id": "c94d8020-a075-44b7-a113-2898f5bfedac",
   "metadata": {},
   "outputs": [
    {
     "name": "stdout",
     "output_type": "stream",
     "text": [
      "Empty DataFrame\n",
      "Columns: []\n",
      "Index: [0, 1, 2, 3, 4, 5]\n"
     ]
    }
   ],
   "source": [
    "# filter() method\n",
    "df=pd.read_excel('Employee.xlsx')\n",
    "nef=df.filter(items=['Name','Gender''GradCGPA'])\n",
    "print(nef)"
   ]
  },
  {
   "cell_type": "code",
   "execution_count": 15,
   "id": "21622ae8-9235-48a8-bbb6-269456f6bf91",
   "metadata": {},
   "outputs": [
    {
     "name": "stdout",
     "output_type": "stream",
     "text": [
      "True\n"
     ]
    }
   ],
   "source": [
    "# equal method\n",
    "newdf=df.copy()\n",
    "print(df.equals(newdf))"
   ]
  },
  {
   "cell_type": "code",
   "execution_count": null,
   "id": "78e7a734-b194-48c2-be4c-73e2b888631f",
   "metadata": {},
   "outputs": [],
   "source": []
  }
 ],
 "metadata": {
  "kernelspec": {
   "display_name": "Python 3 (ipykernel)",
   "language": "python",
   "name": "python3"
  },
  "language_info": {
   "codemirror_mode": {
    "name": "ipython",
    "version": 3
   },
   "file_extension": ".py",
   "mimetype": "text/x-python",
   "name": "python",
   "nbconvert_exporter": "python",
   "pygments_lexer": "ipython3",
   "version": "3.11.5"
  }
 },
 "nbformat": 4,
 "nbformat_minor": 5
}
