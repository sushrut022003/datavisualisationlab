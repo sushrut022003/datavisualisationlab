{
 "cells": [
  {
   "cell_type": "code",
   "execution_count": 7,
   "id": "0d957d16-66a0-4883-b9d2-6e47814f8f3f",
   "metadata": {},
   "outputs": [],
   "source": [
    "# # Name :Sushrut Patil\n",
    "# Roll No: 37\n",
    "# Practical 2:Program/Notebook to demonstrate data wrangling in Python using A) Series B) Timedelta"
   ]
  },
  {
   "cell_type": "code",
   "execution_count": 2,
   "id": "1b7dcc5a-b049-4c6c-8be1-1e8f320bc2be",
   "metadata": {},
   "outputs": [
    {
     "name": "stdout",
     "output_type": "stream",
     "text": [
      "0     v\n",
      "1     i\n",
      "2     s\n",
      "3     j\n",
      "4     k\n",
      "5     m\n",
      "6     a\n",
      "7     f\n",
      "8     l\n",
      "9     c\n",
      "10    x\n",
      "11    n\n",
      "dtype: object\n"
     ]
    }
   ],
   "source": [
    "# Series\n",
    "import pandas as pd\n",
    "import numpy as np\n",
    "# Simple array\n",
    "data=np.array(['v','i','s','j','k','m','a','f','l','c','x','n'])\n",
    "# series conversion\n",
    "ser=pd.Series(data)\n",
    "print(ser)"
   ]
  },
  {
   "cell_type": "code",
   "execution_count": 4,
   "id": "b77a57f5-4f8b-4ca7-96fd-02270c540cac",
   "metadata": {},
   "outputs": [
    {
     "name": "stdout",
     "output_type": "stream",
     "text": [
      "3 days 22:30:15\n"
     ]
    }
   ],
   "source": [
    "# Time Delta\n",
    "import pandas as pd \n",
    "\n",
    "print(pd.Timedelta('3 days 22 hours 30 minutes 15 seconds'))"
   ]
  },
  {
   "cell_type": "code",
   "execution_count": 6,
   "id": "d3082cce-f060-4a41-a206-27cb2a6f99e8",
   "metadata": {},
   "outputs": [
    {
     "name": "stdout",
     "output_type": "stream",
     "text": [
      "0 days 03:00:00\n"
     ]
    }
   ],
   "source": [
    "print(pd.Timedelta(3,unit='h'))"
   ]
  },
  {
   "cell_type": "code",
   "execution_count": null,
   "id": "4e9435d0-7253-430d-8348-5e758f9a170a",
   "metadata": {},
   "outputs": [],
   "source": []
  }
 ],
 "metadata": {
  "kernelspec": {
   "display_name": "Python 3 (ipykernel)",
   "language": "python",
   "name": "python3"
  },
  "language_info": {
   "codemirror_mode": {
    "name": "ipython",
    "version": 3
   },
   "file_extension": ".py",
   "mimetype": "text/x-python",
   "name": "python",
   "nbconvert_exporter": "python",
   "pygments_lexer": "ipython3",
   "version": "3.11.5"
  }
 },
 "nbformat": 4,
 "nbformat_minor": 5
}
