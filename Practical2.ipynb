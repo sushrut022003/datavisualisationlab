{
 "cells": [
  {
   "cell_type": "code",
   "execution_count": 1,
   "id": "0f60efae-92b6-4f96-80de-4b08c127d2ce",
   "metadata": {},
   "outputs": [],
   "source": [
    "# Name :Sushrut Patil\n",
    "# Roll No: 37\n",
    "# Practical 2:to read and write data from CSV File, Excel File, JSON File into Python dataframe \n",
    "# and viceversa."
   ]
  },
  {
   "cell_type": "code",
   "execution_count": 2,
   "id": "0ef01603-1ec3-40c0-8e88-bb641ded7dc9",
   "metadata": {},
   "outputs": [
    {
     "name": "stdout",
     "output_type": "stream",
     "text": [
      "  EmpNo EmpName   Skills  GradCGPA  Gender\n",
      "0  E101     Sam  Angular       9.8    Male\n",
      "1  E102  Viraam    React       NaN    Male\n",
      "2  E103  Kalsis       JS       NaN  Female\n",
      "3  E104     Tom   Python       8.9    Male\n",
      "4  E105   Louis      C++       9.4    Male\n",
      "5  E106   Jassy     HTML       7.8    Male\n"
     ]
    }
   ],
   "source": [
    "# Reading CSV File\n",
    "import pandas as pd\n",
    "\n",
    "# Read CSV into a DataFrame\n",
    "df = pd.read_csv('Employee.csv')\n",
    "\n",
    "# Display the DataFrame\n",
    "print(df)"
   ]
  },
  {
   "cell_type": "code",
   "execution_count": 3,
   "id": "bdc6dbda-3097-4d92-bf33-50e6a3efb6fb",
   "metadata": {},
   "outputs": [],
   "source": [
    "# Writing Csv File\n",
    "df.to_csv('output_file.csv', index=False)"
   ]
  },
  {
   "cell_type": "code",
   "execution_count": 5,
   "id": "73efd473-b5b3-4fa5-8199-ae1da9614983",
   "metadata": {},
   "outputs": [
    {
     "name": "stdout",
     "output_type": "stream",
     "text": [
      "  EmpNo EmpName   Skills  GradCGPA  Gender\n",
      "0  E101     Sam  Angular       9.8    Male\n",
      "1  E102  Viraam    React       NaN    Male\n",
      "2  E103  Kalsis       JS       NaN  Female\n",
      "3  E104     Tom   Python       8.9    Male\n",
      "4  E105   Louis      C++       9.4    Male\n",
      "5  E106   Jassy     HTML       7.8    Male\n"
     ]
    }
   ],
   "source": [
    "# Reading Excel\n",
    "import pandas as pd\n",
    "\n",
    "# Read Excel into a DataFrame\n",
    "df = pd.read_excel('Employee.xlsx') \n",
    "\n",
    "# Display the DataFrame\n",
    "print(df)"
   ]
  },
  {
   "cell_type": "code",
   "execution_count": 7,
   "id": "4425daaa-56ab-41ed-9788-665dbf3baaf5",
   "metadata": {},
   "outputs": [],
   "source": [
    "# Writing Excel\n",
    "df.to_excel('output_file.xlsx', sheet_name='Sheet1', index=False)"
   ]
  },
  {
   "cell_type": "code",
   "execution_count": 15,
   "id": "7a4d5040-fac1-4491-b81e-6061011c3526",
   "metadata": {},
   "outputs": [
    {
     "name": "stdout",
     "output_type": "stream",
     "text": [
      "          Author               Title         Publisher\n",
      "0  Seema acharya  Data Visualization       Mcgraw Hill\n",
      "1     Adam Grant         Think Again  Ebury Publishing\n"
     ]
    }
   ],
   "source": [
    "# Reading json\n",
    "import pandas as pd\n",
    "\n",
    "# Read JSON into a DataFrame\n",
    "df = pd.read_json('trial.json')\n",
    "\n",
    "# Display the DataFrame\n",
    "print(df)"
   ]
  },
  {
   "cell_type": "code",
   "execution_count": 16,
   "id": "0f8bf610-4a6e-4102-bce5-312b65538fd1",
   "metadata": {},
   "outputs": [],
   "source": [
    "# writing in Json\n",
    "df.to_json('output_file.json', orient='records')  "
   ]
  },
  {
   "cell_type": "code",
   "execution_count": null,
   "id": "14243e11-02bb-4fed-98fe-e18e794f66ab",
   "metadata": {},
   "outputs": [],
   "source": []
  }
 ],
 "metadata": {
  "kernelspec": {
   "display_name": "Python 3 (ipykernel)",
   "language": "python",
   "name": "python3"
  },
  "language_info": {
   "codemirror_mode": {
    "name": "ipython",
    "version": 3
   },
   "file_extension": ".py",
   "mimetype": "text/x-python",
   "name": "python",
   "nbconvert_exporter": "python",
   "pygments_lexer": "ipython3",
   "version": "3.11.4"
  }
 },
 "nbformat": 4,
 "nbformat_minor": 5
}
